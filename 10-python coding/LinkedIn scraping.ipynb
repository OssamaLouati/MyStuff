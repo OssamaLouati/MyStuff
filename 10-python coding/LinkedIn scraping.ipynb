{
 "cells": [
  {
   "cell_type": "code",
   "execution_count": 19,
   "id": "0b4c07c8",
   "metadata": {},
   "outputs": [],
   "source": [
    "import requests, time, random\n",
    "from bs4 import BeautifulSoup\n",
    "from selenium import webdriver\n",
    "\n",
    "from selenium.webdriver.common.by import By"
   ]
  },
  {
   "cell_type": "code",
   "execution_count": 20,
   "id": "ea93fef9",
   "metadata": {},
   "outputs": [
    {
     "name": "stderr",
     "output_type": "stream",
     "text": [
      "C:\\Users\\louat\\AppData\\Local\\Temp\\ipykernel_13364\\1480197960.py:1: DeprecationWarning: executable_path has been deprecated, please pass in a Service object\n",
      "  browser = webdriver.Chrome('C:/chromedriver.exe')\n"
     ]
    },
    {
     "name": "stdout",
     "output_type": "stream",
     "text": [
      "louatioussama03@gmail.com\n",
      "QhTy5?!,gpagS76\n"
     ]
    }
   ],
   "source": [
    "browser = webdriver.Chrome('C:/chromedriver.exe')\n",
    "browser.get(\"https://www.linkedin.com/login/fr\")\n",
    "file =  open('config.txt')\n",
    "lines = file.readlines()\n",
    "username = lines[0]\n",
    "pwd = lines[1]\n",
    "print(username + pwd)\n",
    "\n",
    "elementID = browser.find_element(By.ID, \"username\")\n",
    "elementID.send_keys(username)\n",
    "\n",
    "pwd_field = browser.find_element(By.ID, \"password\")\n",
    "pwd_field.send_keys(pwd)\n",
    "\n",
    "\n",
    "pwd_field.submit()\n",
    "time.sleep(3)"
   ]
  },
  {
   "cell_type": "code",
   "execution_count": 21,
   "id": "a29e8aba",
   "metadata": {},
   "outputs": [],
   "source": [
    "School_name= \" Institut National des Postes et Télécommunications\"\n",
    "browser.get(\"https://www.linkedin.com/search/results/schools/?keywords=\"+School_name)\n",
    "time.sleep(3)"
   ]
  },
  {
   "cell_type": "code",
   "execution_count": 22,
   "id": "b7f92402",
   "metadata": {},
   "outputs": [],
   "source": [
    "school_url = browser.find_element(By.XPATH, \"\"\"//*[@id=\"main\"]/div/div/div[1]/ul/li/div/div/div[2]/div/div[1]/div/span/span/a\"\"\").get_attribute('href')\n",
    "browser.get(school_url)"
   ]
  }
 ],
 "metadata": {
  "kernelspec": {
   "display_name": "Python 3 (ipykernel)",
   "language": "python",
   "name": "python3"
  },
  "language_info": {
   "codemirror_mode": {
    "name": "ipython",
    "version": 3
   },
   "file_extension": ".py",
   "mimetype": "text/x-python",
   "name": "python",
   "nbconvert_exporter": "python",
   "pygments_lexer": "ipython3",
   "version": "3.10.2"
  }
 },
 "nbformat": 4,
 "nbformat_minor": 5
}
